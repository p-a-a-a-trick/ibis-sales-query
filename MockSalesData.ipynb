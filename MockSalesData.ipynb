{
 "cells": [
  {
   "cell_type": "markdown",
   "id": "be281ced-dec3-46a4-ad34-5a1e1500f4ae",
   "metadata": {},
   "source": [
    "### DB Setup\n",
    "\n",
    "We'll store our data using SQLite in our local directory:"
   ]
  },
  {
   "cell_type": "code",
   "execution_count": 1,
   "id": "4c03f4e6-ee36-4e76-85fa-0223df034b67",
   "metadata": {
    "tags": []
   },
   "outputs": [],
   "source": [
    "import sqlite3\n",
    "conn = sqlite3.connect('sales_data.db')"
   ]
  },
  {
   "cell_type": "markdown",
   "id": "6f84d722-873a-4acc-853b-ff1e376e200b",
   "metadata": {
    "tags": []
   },
   "source": [
    "### Mock Data\n",
    "\n",
    "We want to create a simple simulation of sales data for an arbitrary number of retailers (that each have a random number of stores, up to some max number).  This data will span an arbitrary amount of abstract time periods (in the default case, 58 weeks), and will contain sales in a currency (USD) and sales in units for an arbitrary number of products (default 10).  Prices of products will be random up to a cap (default 15.99) and units will be capped (default 15 units sold).\n",
    "\n",
    "To add some additional realism, we will mock missing data to simulate new stores (missing weeks up to a point in time) and closed stores (missing weeks after a point in time).\n",
    "\n",
    "Following the data generation, we will duplicate it and double the copy.  We will then upload the doubled data first to simulate a bad upload and then upload the correct data to simulate a correction.  Our table follows the principle of not deleting anything to demonstrate latest source of truth.\n",
    "\n",
    "In summary:\n",
    "\n",
    "1. Pick variables (number of abstract products, stores, retailers, dates, price, units sold)\n",
    "2. Generate abstract objects (products, retailers, stores in each retailer, dates)\n",
    "3. For each abstract product:\n",
    "    1. determine product price\n",
    "    2. determine max units sold in stores\n",
    "        1. A future iteration should have this calculated at the retailer level, since an abstract product could be produce, which would sell more in some retailers over others\n",
    "4. For each retailer:\n",
    "    1. determine store count\n",
    "    2. For each product, for each store (up to the retailer max), for each date:\n",
    "        1. create a skeleton containing the \\[date, store, retailer, product\\]\n",
    "        2. pick a random number of units sold for that set, and assign it to units sold\n",
    "        3. using the unit price, multiply by units sold to calculate total sales in currency\n",
    "        4. create two rows by appending the values for units sold and sales in currency to the skeleton\n",
    "        5. add row to list of rows\n",
    "5. convert total list of rows containing all retailer data into a pandas dataframe\n",
    "6. Lazily cluster data by retailer:\n",
    "    1. Group by store, retailer, value\n",
    "    2. calculate mean\n",
    "    3. sort values by retailer\n",
    "    4. round-robin distribute Test (T), Control (C), and Not Selected (NS) to each store starting at the top\n",
    "7. Append cluster assignments to data\n",
    "8. Add noise:\n",
    "    1. Pick 1 out of every 20 stores in each retailer to flag as new or closed\n",
    "    2. for each new store, pick a random date and delete all data before that date for that store\n",
    "    3. for each closed store, pick a random date and delete all data after that date for that store\n",
    "9. Duplicate and double the `value` column in the copy\n",
    "10. upload to the database\n",
    "11. Generate the tables and populate views\n",
    "12. Populate tables"
   ]
  },
  {
   "cell_type": "code",
   "execution_count": 2,
   "id": "26177ed7-1185-42b1-9e26-d552989d2dd9",
   "metadata": {},
   "outputs": [],
   "source": [
    "import random\n",
    "\n",
    "# Mock Data Parameters\n",
    "NUM_PRODUCTS = 10\n",
    "NUM_STORES = 600\n",
    "NUM_DATES = 58\n",
    "NUM_RETAILERS = 3\n",
    "\n",
    "MIN_RET_STORES = 250\n",
    "MAX_UNIT_DOLLAR = 15\n",
    "MAX_UNIT_SOLD = 15\n",
    "\n",
    "# Planning\n",
    "PRODUCTS = [f'PRODUCT_{k}' for k in range(NUM_PRODUCTS)]\n",
    "RETAILERS = [f'RETAILER_{k}' for k in range(NUM_RETAILERS)]\n",
    "STORES = [str(k).zfill(len(str(NUM_STORES))) for k in range(NUM_STORES)]\n",
    "DATES = [f'WEEK_{str(k).zfill(2)}' for k in range(NUM_DATES)]\n",
    "\n",
    "PRODUCT_PRICES = dict()\n",
    "PRODUCT_SELL_MAX = dict()\n",
    "\n",
    "# 1. For each product:\n",
    "#     1. Determine Product Price\n",
    "#     2. Determine the max products sold in stores\n",
    "# 2. calculate the number of stores in each retailer (min_stores, max_stores)\n",
    "# 3. For each retailer, for each week, for each store (up to retailer max), for each product:\n",
    "#     1. create row skeleton: week, product, store, retailer\n",
    "#     2. calculate number of products sold that week using (1.B.)\n",
    "#     3. create two rows: row skeleton + unit, (2.B.), row skeleton + usd, (2.B.) * (1.A)\n",
    "\n",
    "rows = list()\n",
    "\n",
    "for p in PRODUCTS:\n",
    "    # Determine product price\n",
    "    _r = random.randint(0, MAX_UNIT_DOLLAR)\n",
    "    _d = _r if _r == 0 else random.randint(0, _r)\n",
    "    _c = random.randint(0, 99)\n",
    "    _p = float('.'.join([str(_d), str(_c).zfill(2)]))\n",
    "\n",
    "    # Implement values\n",
    "    PRODUCT_PRICES[p] = _p\n",
    "    PRODUCT_SELL_MAX[p] = random.randint(1, MAX_UNIT_SOLD)\n",
    "\n",
    "for r in RETAILERS:\n",
    "    _store_max = -1 if r == RETAILERS[-1] else random.randint(MIN_RET_STORES, NUM_STORES)\n",
    "    for p in PRODUCTS:\n",
    "        for s in STORES[0:_store_max]:\n",
    "            for d in DATES:\n",
    "                skel = [d, s, r, p]\n",
    "                _s = random.randint(0, PRODUCT_SELL_MAX[p])\n",
    "                r1 = skel + ['SALES_UNITS', str(_s)]\n",
    "                r2 = skel + ['SALES_USD', \"{:.2f}\".format(float(_s) * PRODUCT_PRICES[p])]\n",
    "                rows.append(r1)\n",
    "                rows.append(r2)"
   ]
  },
  {
   "cell_type": "markdown",
   "id": "374d0ee4-ad51-4a71-81c0-fd15ba65d44b",
   "metadata": {},
   "source": [
    "### Data Preview"
   ]
  },
  {
   "cell_type": "code",
   "execution_count": 3,
   "id": "5641afac-4024-4940-8395-3c38a8815e05",
   "metadata": {},
   "outputs": [
    {
     "data": {
      "text/plain": [
       "{'PRODUCT_0': 3.61,\n",
       " 'PRODUCT_1': 0.92,\n",
       " 'PRODUCT_2': 0.99,\n",
       " 'PRODUCT_3': 14.84,\n",
       " 'PRODUCT_4': 2.62,\n",
       " 'PRODUCT_5': 1.3,\n",
       " 'PRODUCT_6': 2.4,\n",
       " 'PRODUCT_7': 7.78,\n",
       " 'PRODUCT_8': 11.1,\n",
       " 'PRODUCT_9': 1.62,\n",
       " 'PRODUCT_10': 0.21,\n",
       " 'PRODUCT_11': 0.92,\n",
       " 'PRODUCT_12': 6.87,\n",
       " 'PRODUCT_13': 0.12,\n",
       " 'PRODUCT_14': 3.76}"
      ]
     },
     "execution_count": 3,
     "metadata": {},
     "output_type": "execute_result"
    }
   ],
   "source": [
    "PRODUCT_PRICES"
   ]
  },
  {
   "cell_type": "code",
   "execution_count": 4,
   "id": "a19c6330-dc94-4e17-96cf-8a8cc78853e7",
   "metadata": {},
   "outputs": [
    {
     "data": {
      "text/plain": [
       "{'PRODUCT_0': 14,\n",
       " 'PRODUCT_1': 4,\n",
       " 'PRODUCT_2': 9,\n",
       " 'PRODUCT_3': 3,\n",
       " 'PRODUCT_4': 6,\n",
       " 'PRODUCT_5': 12,\n",
       " 'PRODUCT_6': 2,\n",
       " 'PRODUCT_7': 12,\n",
       " 'PRODUCT_8': 10,\n",
       " 'PRODUCT_9': 15,\n",
       " 'PRODUCT_10': 15,\n",
       " 'PRODUCT_11': 4,\n",
       " 'PRODUCT_12': 12,\n",
       " 'PRODUCT_13': 4,\n",
       " 'PRODUCT_14': 10}"
      ]
     },
     "execution_count": 4,
     "metadata": {},
     "output_type": "execute_result"
    }
   ],
   "source": [
    "PRODUCT_SELL_MAX"
   ]
  },
  {
   "cell_type": "code",
   "execution_count": 5,
   "id": "42a154f5-9acf-4e84-bb81-0c0e6cd633f3",
   "metadata": {},
   "outputs": [
    {
     "data": {
      "text/plain": [
       "[['WEEK_00', '0000', 'RETAILER_0', 'PRODUCT_0', 'SALES_UNITS', '0'],\n",
       " ['WEEK_00', '0000', 'RETAILER_0', 'PRODUCT_0', 'SALES_USD', '0.00'],\n",
       " ['WEEK_01', '0000', 'RETAILER_0', 'PRODUCT_0', 'SALES_UNITS', '3'],\n",
       " ['WEEK_01', '0000', 'RETAILER_0', 'PRODUCT_0', 'SALES_USD', '10.83'],\n",
       " ['WEEK_02', '0000', 'RETAILER_0', 'PRODUCT_0', 'SALES_UNITS', '12'],\n",
       " ['WEEK_02', '0000', 'RETAILER_0', 'PRODUCT_0', 'SALES_USD', '43.32'],\n",
       " ['WEEK_03', '0000', 'RETAILER_0', 'PRODUCT_0', 'SALES_UNITS', '11'],\n",
       " ['WEEK_03', '0000', 'RETAILER_0', 'PRODUCT_0', 'SALES_USD', '39.71'],\n",
       " ['WEEK_04', '0000', 'RETAILER_0', 'PRODUCT_0', 'SALES_UNITS', '7'],\n",
       " ['WEEK_04', '0000', 'RETAILER_0', 'PRODUCT_0', 'SALES_USD', '25.27']]"
      ]
     },
     "execution_count": 5,
     "metadata": {},
     "output_type": "execute_result"
    }
   ],
   "source": [
    "rows[:10]"
   ]
  },
  {
   "cell_type": "code",
   "execution_count": 6,
   "id": "cf6ff9c1-03ef-4d12-ac63-e585a2972803",
   "metadata": {
    "tags": []
   },
   "outputs": [
    {
     "data": {
      "text/plain": [
       "17598360"
      ]
     },
     "execution_count": 6,
     "metadata": {},
     "output_type": "execute_result"
    }
   ],
   "source": [
    "len(rows)"
   ]
  },
  {
   "cell_type": "markdown",
   "id": "d00cbd6e-a9cb-4c4d-9847-204781a29c44",
   "metadata": {},
   "source": [
    "### Stuff into DataFrame"
   ]
  },
  {
   "cell_type": "code",
   "execution_count": 7,
   "id": "3e745e81-7b5b-4079-b97b-cc389b134544",
   "metadata": {},
   "outputs": [
    {
     "data": {
      "text/html": [
       "<div>\n",
       "<style scoped>\n",
       "    .dataframe tbody tr th:only-of-type {\n",
       "        vertical-align: middle;\n",
       "    }\n",
       "\n",
       "    .dataframe tbody tr th {\n",
       "        vertical-align: top;\n",
       "    }\n",
       "\n",
       "    .dataframe thead th {\n",
       "        text-align: right;\n",
       "    }\n",
       "</style>\n",
       "<table border=\"1\" class=\"dataframe\">\n",
       "  <thead>\n",
       "    <tr style=\"text-align: right;\">\n",
       "      <th></th>\n",
       "      <th>date</th>\n",
       "      <th>store</th>\n",
       "      <th>retailer</th>\n",
       "      <th>product</th>\n",
       "      <th>unit</th>\n",
       "      <th>value</th>\n",
       "    </tr>\n",
       "  </thead>\n",
       "  <tbody>\n",
       "    <tr>\n",
       "      <th>0</th>\n",
       "      <td>WEEK_00</td>\n",
       "      <td>0000</td>\n",
       "      <td>RETAILER_0</td>\n",
       "      <td>PRODUCT_0</td>\n",
       "      <td>SALES_UNITS</td>\n",
       "      <td>0.00</td>\n",
       "    </tr>\n",
       "    <tr>\n",
       "      <th>1</th>\n",
       "      <td>WEEK_00</td>\n",
       "      <td>0000</td>\n",
       "      <td>RETAILER_0</td>\n",
       "      <td>PRODUCT_0</td>\n",
       "      <td>SALES_USD</td>\n",
       "      <td>0.00</td>\n",
       "    </tr>\n",
       "    <tr>\n",
       "      <th>2</th>\n",
       "      <td>WEEK_01</td>\n",
       "      <td>0000</td>\n",
       "      <td>RETAILER_0</td>\n",
       "      <td>PRODUCT_0</td>\n",
       "      <td>SALES_UNITS</td>\n",
       "      <td>3.00</td>\n",
       "    </tr>\n",
       "    <tr>\n",
       "      <th>3</th>\n",
       "      <td>WEEK_01</td>\n",
       "      <td>0000</td>\n",
       "      <td>RETAILER_0</td>\n",
       "      <td>PRODUCT_0</td>\n",
       "      <td>SALES_USD</td>\n",
       "      <td>10.83</td>\n",
       "    </tr>\n",
       "    <tr>\n",
       "      <th>4</th>\n",
       "      <td>WEEK_02</td>\n",
       "      <td>0000</td>\n",
       "      <td>RETAILER_0</td>\n",
       "      <td>PRODUCT_0</td>\n",
       "      <td>SALES_UNITS</td>\n",
       "      <td>12.00</td>\n",
       "    </tr>\n",
       "  </tbody>\n",
       "</table>\n",
       "</div>"
      ],
      "text/plain": [
       "      date store    retailer    product         unit  value\n",
       "0  WEEK_00  0000  RETAILER_0  PRODUCT_0  SALES_UNITS   0.00\n",
       "1  WEEK_00  0000  RETAILER_0  PRODUCT_0    SALES_USD   0.00\n",
       "2  WEEK_01  0000  RETAILER_0  PRODUCT_0  SALES_UNITS   3.00\n",
       "3  WEEK_01  0000  RETAILER_0  PRODUCT_0    SALES_USD  10.83\n",
       "4  WEEK_02  0000  RETAILER_0  PRODUCT_0  SALES_UNITS  12.00"
      ]
     },
     "execution_count": 7,
     "metadata": {},
     "output_type": "execute_result"
    }
   ],
   "source": [
    "import pandas as pd\n",
    "\n",
    "df = pd.DataFrame(rows, columns=['date', 'store', 'retailer', 'product', 'unit', 'value'])\n",
    "df['value'] = df['value'].astype(float)\n",
    "\n",
    "df.head()"
   ]
  },
  {
   "cell_type": "markdown",
   "id": "108a96ea-073c-4212-99d5-166c6cc27bd6",
   "metadata": {},
   "source": [
    "### Apply Lazy Cluster"
   ]
  },
  {
   "cell_type": "code",
   "execution_count": 8,
   "id": "7f1418d1-1b3a-4c09-8bda-a08dfdb945cf",
   "metadata": {},
   "outputs": [],
   "source": [
    "gbs = df.groupby(['store', 'retailer', 'unit'])['value'].mean().reset_index()"
   ]
  },
  {
   "cell_type": "code",
   "execution_count": 9,
   "id": "f98b0aea-7ef3-490f-92e8-e2b5836cbb26",
   "metadata": {},
   "outputs": [],
   "source": [
    "gbs = gbs.loc[gbs['unit'].isin(['SALES_USD'])].sort_values(by=['retailer', 'value']).reset_index(drop=True)"
   ]
  },
  {
   "cell_type": "code",
   "execution_count": 10,
   "id": "f49b2751-3bd0-45a4-a7d3-70a139481cea",
   "metadata": {},
   "outputs": [],
   "source": [
    "c_map = {0: 'T', 1: 'C', 2: 'NS'}\n",
    "\n",
    "gbs['cluster'] = pd.Series(gbs.index).apply(lambda x: x % 3).map(c_map)"
   ]
  },
  {
   "cell_type": "code",
   "execution_count": 11,
   "id": "a83fa07b-1ffa-498c-9b75-5a0a1e990448",
   "metadata": {},
   "outputs": [
    {
     "data": {
      "text/plain": [
       "retailer    cluster\n",
       "RETAILER_0  C          16.656545\n",
       "            NS         16.655788\n",
       "            T          16.654773\n",
       "RETAILER_1  C          16.700525\n",
       "            NS         16.684343\n",
       "            T          16.691976\n",
       "RETAILER_2  C          16.673853\n",
       "            NS         16.673210\n",
       "            T          16.674128\n",
       "RETAILER_3  C          16.672383\n",
       "            NS         16.673314\n",
       "            T          16.674290\n",
       "Name: value, dtype: float64"
      ]
     },
     "execution_count": 11,
     "metadata": {},
     "output_type": "execute_result"
    }
   ],
   "source": [
    "gbs.groupby(['retailer', 'cluster'])['value'].mean()"
   ]
  },
  {
   "cell_type": "markdown",
   "id": "d5253401-14cb-41a3-962b-f7fd9b067f53",
   "metadata": {},
   "source": [
    "### Merge Cluster Assignment"
   ]
  },
  {
   "cell_type": "code",
   "execution_count": 12,
   "id": "3af457f1-28d6-4b83-8f30-b1a1999743f7",
   "metadata": {},
   "outputs": [
    {
     "data": {
      "text/html": [
       "<div>\n",
       "<style scoped>\n",
       "    .dataframe tbody tr th:only-of-type {\n",
       "        vertical-align: middle;\n",
       "    }\n",
       "\n",
       "    .dataframe tbody tr th {\n",
       "        vertical-align: top;\n",
       "    }\n",
       "\n",
       "    .dataframe thead th {\n",
       "        text-align: right;\n",
       "    }\n",
       "</style>\n",
       "<table border=\"1\" class=\"dataframe\">\n",
       "  <thead>\n",
       "    <tr style=\"text-align: right;\">\n",
       "      <th></th>\n",
       "      <th>retailer</th>\n",
       "      <th>store</th>\n",
       "      <th>cluster</th>\n",
       "    </tr>\n",
       "  </thead>\n",
       "  <tbody>\n",
       "    <tr>\n",
       "      <th>0</th>\n",
       "      <td>RETAILER_0</td>\n",
       "      <td>2080</td>\n",
       "      <td>T</td>\n",
       "    </tr>\n",
       "    <tr>\n",
       "      <th>1</th>\n",
       "      <td>RETAILER_0</td>\n",
       "      <td>0416</td>\n",
       "      <td>C</td>\n",
       "    </tr>\n",
       "    <tr>\n",
       "      <th>2</th>\n",
       "      <td>RETAILER_0</td>\n",
       "      <td>1012</td>\n",
       "      <td>NS</td>\n",
       "    </tr>\n",
       "    <tr>\n",
       "      <th>3</th>\n",
       "      <td>RETAILER_0</td>\n",
       "      <td>1356</td>\n",
       "      <td>T</td>\n",
       "    </tr>\n",
       "    <tr>\n",
       "      <th>4</th>\n",
       "      <td>RETAILER_0</td>\n",
       "      <td>0052</td>\n",
       "      <td>C</td>\n",
       "    </tr>\n",
       "  </tbody>\n",
       "</table>\n",
       "</div>"
      ],
      "text/plain": [
       "     retailer store cluster\n",
       "0  RETAILER_0  2080       T\n",
       "1  RETAILER_0  0416       C\n",
       "2  RETAILER_0  1012      NS\n",
       "3  RETAILER_0  1356       T\n",
       "4  RETAILER_0  0052       C"
      ]
     },
     "execution_count": 12,
     "metadata": {},
     "output_type": "execute_result"
    }
   ],
   "source": [
    "clusters = gbs[['retailer', 'store', 'cluster']].drop_duplicates().reset_index(drop=True)\n",
    "clusters.head()"
   ]
  },
  {
   "cell_type": "code",
   "execution_count": 13,
   "id": "17cd1667-a550-4ad2-bfcc-308b66a79b46",
   "metadata": {},
   "outputs": [
    {
     "data": {
      "text/html": [
       "<div>\n",
       "<style scoped>\n",
       "    .dataframe tbody tr th:only-of-type {\n",
       "        vertical-align: middle;\n",
       "    }\n",
       "\n",
       "    .dataframe tbody tr th {\n",
       "        vertical-align: top;\n",
       "    }\n",
       "\n",
       "    .dataframe thead th {\n",
       "        text-align: right;\n",
       "    }\n",
       "</style>\n",
       "<table border=\"1\" class=\"dataframe\">\n",
       "  <thead>\n",
       "    <tr style=\"text-align: right;\">\n",
       "      <th></th>\n",
       "      <th>date</th>\n",
       "      <th>store</th>\n",
       "      <th>retailer</th>\n",
       "      <th>product</th>\n",
       "      <th>unit</th>\n",
       "      <th>value</th>\n",
       "    </tr>\n",
       "  </thead>\n",
       "  <tbody>\n",
       "    <tr>\n",
       "      <th>0</th>\n",
       "      <td>WEEK_00</td>\n",
       "      <td>0000</td>\n",
       "      <td>RETAILER_0</td>\n",
       "      <td>PRODUCT_0</td>\n",
       "      <td>SALES_UNITS</td>\n",
       "      <td>0.00</td>\n",
       "    </tr>\n",
       "    <tr>\n",
       "      <th>1</th>\n",
       "      <td>WEEK_00</td>\n",
       "      <td>0000</td>\n",
       "      <td>RETAILER_0</td>\n",
       "      <td>PRODUCT_0</td>\n",
       "      <td>SALES_USD</td>\n",
       "      <td>0.00</td>\n",
       "    </tr>\n",
       "    <tr>\n",
       "      <th>2</th>\n",
       "      <td>WEEK_01</td>\n",
       "      <td>0000</td>\n",
       "      <td>RETAILER_0</td>\n",
       "      <td>PRODUCT_0</td>\n",
       "      <td>SALES_UNITS</td>\n",
       "      <td>3.00</td>\n",
       "    </tr>\n",
       "    <tr>\n",
       "      <th>3</th>\n",
       "      <td>WEEK_01</td>\n",
       "      <td>0000</td>\n",
       "      <td>RETAILER_0</td>\n",
       "      <td>PRODUCT_0</td>\n",
       "      <td>SALES_USD</td>\n",
       "      <td>10.83</td>\n",
       "    </tr>\n",
       "    <tr>\n",
       "      <th>4</th>\n",
       "      <td>WEEK_02</td>\n",
       "      <td>0000</td>\n",
       "      <td>RETAILER_0</td>\n",
       "      <td>PRODUCT_0</td>\n",
       "      <td>SALES_UNITS</td>\n",
       "      <td>12.00</td>\n",
       "    </tr>\n",
       "  </tbody>\n",
       "</table>\n",
       "</div>"
      ],
      "text/plain": [
       "      date store    retailer    product         unit  value\n",
       "0  WEEK_00  0000  RETAILER_0  PRODUCT_0  SALES_UNITS   0.00\n",
       "1  WEEK_00  0000  RETAILER_0  PRODUCT_0    SALES_USD   0.00\n",
       "2  WEEK_01  0000  RETAILER_0  PRODUCT_0  SALES_UNITS   3.00\n",
       "3  WEEK_01  0000  RETAILER_0  PRODUCT_0    SALES_USD  10.83\n",
       "4  WEEK_02  0000  RETAILER_0  PRODUCT_0  SALES_UNITS  12.00"
      ]
     },
     "execution_count": 13,
     "metadata": {},
     "output_type": "execute_result"
    }
   ],
   "source": [
    "df.head()"
   ]
  },
  {
   "cell_type": "markdown",
   "id": "1b056417-9dcd-4b8c-b98c-49bfffbd8458",
   "metadata": {
    "tags": []
   },
   "source": [
    "### Add some noise"
   ]
  },
  {
   "cell_type": "code",
   "execution_count": 14,
   "id": "0d715414-31b5-47d1-966e-c6e688330804",
   "metadata": {},
   "outputs": [],
   "source": [
    "# First, from each retailer, simulate a handful of new stores\n",
    "# One out of every 20 stores is new or closed\n",
    "store_meta = df[['retailer', 'store']].drop_duplicates().sample(frac=1).reset_index(drop=True)\n",
    "\n",
    "# If new, pick n and delete all history before WEEK_{n}\n",
    "store_meta['new'] = pd.Series(store_meta.index).apply(lambda x: random.sample(DATES, 1)[0] if not (x % 20) else DATES[0])\n",
    "\n",
    "# If closed, pick n and delete all history after WEEK_{n}\n",
    "store_meta['closed'] = pd.Series(store_meta.index).apply(lambda x: random.sample(DATES, 1)[0] if (x % 20 == 1) else DATES[-1])"
   ]
  },
  {
   "cell_type": "code",
   "execution_count": 15,
   "id": "6879b264-e2f8-42a7-9ff5-a832edceec72",
   "metadata": {},
   "outputs": [
    {
     "data": {
      "text/html": [
       "<div>\n",
       "<style scoped>\n",
       "    .dataframe tbody tr th:only-of-type {\n",
       "        vertical-align: middle;\n",
       "    }\n",
       "\n",
       "    .dataframe tbody tr th {\n",
       "        vertical-align: top;\n",
       "    }\n",
       "\n",
       "    .dataframe thead th {\n",
       "        text-align: right;\n",
       "    }\n",
       "</style>\n",
       "<table border=\"1\" class=\"dataframe\">\n",
       "  <thead>\n",
       "    <tr style=\"text-align: right;\">\n",
       "      <th></th>\n",
       "      <th>retailer</th>\n",
       "      <th>store</th>\n",
       "      <th>new</th>\n",
       "      <th>closed</th>\n",
       "    </tr>\n",
       "  </thead>\n",
       "  <tbody>\n",
       "    <tr>\n",
       "      <th>0</th>\n",
       "      <td>RETAILER_3</td>\n",
       "      <td>2987</td>\n",
       "      <td>WEEK_41</td>\n",
       "      <td>WEEK_57</td>\n",
       "    </tr>\n",
       "    <tr>\n",
       "      <th>1</th>\n",
       "      <td>RETAILER_3</td>\n",
       "      <td>1918</td>\n",
       "      <td>WEEK_00</td>\n",
       "      <td>WEEK_21</td>\n",
       "    </tr>\n",
       "    <tr>\n",
       "      <th>2</th>\n",
       "      <td>RETAILER_0</td>\n",
       "      <td>0191</td>\n",
       "      <td>WEEK_00</td>\n",
       "      <td>WEEK_57</td>\n",
       "    </tr>\n",
       "    <tr>\n",
       "      <th>3</th>\n",
       "      <td>RETAILER_2</td>\n",
       "      <td>1771</td>\n",
       "      <td>WEEK_00</td>\n",
       "      <td>WEEK_57</td>\n",
       "    </tr>\n",
       "    <tr>\n",
       "      <th>4</th>\n",
       "      <td>RETAILER_3</td>\n",
       "      <td>0076</td>\n",
       "      <td>WEEK_00</td>\n",
       "      <td>WEEK_57</td>\n",
       "    </tr>\n",
       "  </tbody>\n",
       "</table>\n",
       "</div>"
      ],
      "text/plain": [
       "     retailer store      new   closed\n",
       "0  RETAILER_3  2987  WEEK_41  WEEK_57\n",
       "1  RETAILER_3  1918  WEEK_00  WEEK_21\n",
       "2  RETAILER_0  0191  WEEK_00  WEEK_57\n",
       "3  RETAILER_2  1771  WEEK_00  WEEK_57\n",
       "4  RETAILER_3  0076  WEEK_00  WEEK_57"
      ]
     },
     "execution_count": 15,
     "metadata": {},
     "output_type": "execute_result"
    }
   ],
   "source": [
    "store_meta.head()"
   ]
  },
  {
   "cell_type": "code",
   "execution_count": 16,
   "id": "8fd5d3c3-0b12-4929-afc6-4326abd71ef8",
   "metadata": {},
   "outputs": [],
   "source": [
    "df = pd.merge(df, store_meta)"
   ]
  },
  {
   "cell_type": "code",
   "execution_count": 17,
   "id": "93cd568d-a7ff-44bf-b791-a8faf1803bb9",
   "metadata": {},
   "outputs": [
    {
     "name": "stdout",
     "output_type": "stream",
     "text": [
      "discard:         894750\n",
      "keep:            16703610\n",
      "original row ct: 17598360\n",
      "keep+discard:    17598360\n"
     ]
    }
   ],
   "source": [
    "bix = df['date'].between(df['new'], df['closed'])\n",
    "\n",
    "keep = df.loc[bix]\n",
    "discard = df.loc[~bix]\n",
    "\n",
    "print('discard:        ', discard.shape[0])\n",
    "print('keep:           ', keep.shape[0])\n",
    "print('original row ct:', len(rows))\n",
    "print('keep+discard:   ', discard.shape[0] + keep.shape[0])\n",
    "\n",
    "df = df.loc[bix].reset_index(drop=True)\n",
    "del keep\n",
    "del discard"
   ]
  },
  {
   "cell_type": "markdown",
   "id": "701a2b15-b769-4712-93c9-4ccb85c82901",
   "metadata": {},
   "source": [
    "### Duplicate & Double to simulate a bad download and then Upload Data to DB"
   ]
  },
  {
   "cell_type": "code",
   "execution_count": 18,
   "id": "5bd9a89f-480f-4b4c-884b-9dda4e944ef1",
   "metadata": {},
   "outputs": [],
   "source": [
    "merge = pd.merge(df, clusters)\n",
    "merge['value'] = merge['value'].astype(float)\n",
    "\n",
    "dupes = merge.reset_index(drop=True)\n",
    "dupes['value'] = dupes['value'] * 2"
   ]
  },
  {
   "cell_type": "markdown",
   "id": "361d8f01-bbc4-480d-9363-2dd3458f379a",
   "metadata": {
    "tags": []
   },
   "source": [
    "### Dimensionalize"
   ]
  },
  {
   "cell_type": "code",
   "execution_count": 19,
   "id": "12da3c46-eb41-49e7-aaa3-40b924f4989a",
   "metadata": {},
   "outputs": [
    {
     "data": {
      "text/plain": [
       "<sqlite3.Cursor at 0x7f45c3198e30>"
      ]
     },
     "execution_count": 19,
     "metadata": {},
     "output_type": "execute_result"
    }
   ],
   "source": [
    "import sqlite3\n",
    "conn = sqlite3.connect('sales_data.db')\n",
    "\n",
    "sql = \"\"\"\n",
    "DROP TABLE IF EXISTS fact_sale;\n",
    "DROP VIEW IF EXISTS fact_salev;\n",
    "\n",
    "DROP TABLE IF EXISTS dim_date;\n",
    "CREATE TABLE dim_date (\n",
    "    date_id INTEGER PRIMARY KEY AUTOINCREMENT\n",
    "    ,date_value TEXT NOT NULL\n",
    "    ,UNIQUE(date_value) ON CONFLICT IGNORE\n",
    ");\n",
    "\n",
    "DROP VIEW IF EXISTS dim_datev;\n",
    "CREATE VIEW dim_datev AS\n",
    "    SELECT DISTINCT\n",
    "        date AS date_value\n",
    "    FROM\n",
    "        raw\n",
    "    ORDER BY\n",
    "        date ASC;\n",
    "\n",
    "\n",
    "DROP TABLE IF EXISTS dim_retailer;\n",
    "CREATE TABLE dim_retailer (\n",
    "    retailer_id INTEGER PRIMARY KEY AUTOINCREMENT\n",
    "    ,retailer_name TEXT NOT NULL\n",
    "    ,UNIQUE(retailer_name) ON CONFLICT IGNORE\n",
    ");\n",
    "\n",
    "DROP VIEW IF EXISTS dim_retailerv;\n",
    "CREATE VIEW dim_retailerv AS\n",
    "    SELECT DISTINCT\n",
    "        retailer AS retailer_name\n",
    "    FROM\n",
    "        raw\n",
    "    ORDER BY\n",
    "        retailer ASC;\n",
    "\n",
    "\n",
    "DROP TABLE IF EXISTS dim_store;\n",
    "CREATE TABLE dim_store (\n",
    "    store_id INTEGER PRIMARY KEY AUTOINCREMENT\n",
    "    ,store_name TEXT NOT NULL\n",
    "    ,retailer_id BIGINT NOT NULL REFERENCES dim_retailer(retailer_id)\n",
    "    ,UNIQUE(store_name, retailer_id) ON CONFLICT IGNORE\n",
    ");\n",
    "\n",
    "DROP VIEW IF EXISTS dim_storev;\n",
    "CREATE VIEW dim_storev AS\n",
    "    SELECT DISTINCT\n",
    "        store AS store_name\n",
    "        ,retailer_id\n",
    "    FROM\n",
    "        raw\n",
    "    JOIN\n",
    "        dim_retailer\n",
    "        ON retailer = retailer_name\n",
    "    ORDER BY\n",
    "        retailer_id\n",
    "        ,store_name;\n",
    "\n",
    "\n",
    "DROP TABLE IF EXISTS dim_product;\n",
    "CREATE TABLE dim_product (\n",
    "    product_id INTEGER PRIMARY KEY AUTOINCREMENT\n",
    "    ,product_name TEXT NOT NULL\n",
    "    ,UNIQUE(product_name) ON CONFLICT IGNORE\n",
    ");\n",
    "\n",
    "DROP VIEW IF EXISTS dim_productv;\n",
    "CREATE VIEW dim_productv AS\n",
    "    SELECT DISTINCT\n",
    "        product AS product_name\n",
    "    FROM\n",
    "        raw\n",
    "    ORDER BY\n",
    "        product_name ASC;\n",
    "\n",
    "\n",
    "DROP TABLE IF EXISTS dim_unit;\n",
    "CREATE TABLE dim_unit (\n",
    "    unit_id INTEGER PRIMARY KEY AUTOINCREMENT\n",
    "    ,unit_name TEXT NOT NULL\n",
    "    ,UNIQUE(unit_name) ON CONFLICT IGNORE\n",
    ");\n",
    "\n",
    "DROP VIEW IF EXISTS dim_unitv;\n",
    "CREATE VIEW dim_unitv AS\n",
    "    SELECT DISTINCT\n",
    "        unit AS unit_name\n",
    "    FROM\n",
    "        raw\n",
    "    ORDER BY\n",
    "        unit_name ASC;\n",
    "\n",
    "\n",
    "DROP TABLE IF EXISTS fact_sale;\n",
    "CREATE TABLE fact_sale (\n",
    "     fact_id INTEGER NOT NULL PRIMARY KEY AUTOINCREMENT\n",
    "    ,date_id INTEGER NOT NULL REFERENCES dim_date(date_id)\n",
    "    ,store_id INTEGER NOT NULL REFERENCES dim_store(store_id)\n",
    "    ,product_id INTEGER NOT NULL REFERENCES dim_product(product_id)\n",
    "    ,unit_id INTEGER NOT NULL REFERENCES dim_unit(unit_id)\n",
    "    ,value FLOAT\n",
    "    ,created_at DATETIME DEFAULT CURRENT_TIMESTAMP\n",
    ");\n",
    "\n",
    "DROP VIEW IF EXISTS fact_salev;\n",
    "CREATE VIEW fact_salev AS\n",
    "    SELECT\n",
    "        date_id\n",
    "        ,store_id\n",
    "        ,product_id\n",
    "        ,unit_id\n",
    "        ,value\n",
    "    FROM\n",
    "        raw\n",
    "    JOIN\n",
    "        dim_date\n",
    "        ON date_value = date\n",
    "    JOIN\n",
    "        dim_retailer\n",
    "        ON retailer_name = retailer\n",
    "    JOIN\n",
    "        dim_store\n",
    "        ON store = store_name\n",
    "        AND dim_store.retailer_id = dim_retailer.retailer_id\n",
    "    JOIN\n",
    "        dim_product\n",
    "        ON product_name = product\n",
    "    JOIN\n",
    "        dim_unit\n",
    "        ON unit_name = unit;\n",
    "\n",
    "\n",
    "DROP TABLE IF EXISTS dim_segment;\n",
    "CREATE TABLE dim_segment (\n",
    "    segment_id INTEGER PRIMARY KEY AUTOINCREMENT\n",
    "    ,segment_name TEXT NOT NULL\n",
    "    ,UNIQUE(segment_name) ON CONFLICT IGNORE\n",
    ");\n",
    "\n",
    "DROP VIEW IF EXISTS dim_segmentv;\n",
    "CREATE VIEW dim_segmentv AS\n",
    "    SELECT\n",
    "        DISTINCT cluster AS segment_name\n",
    "    FROM\n",
    "        raw;\n",
    "\n",
    "\n",
    "DROP TABLE IF EXISTS fact_segmentation;\n",
    "CREATE TABLE fact_segmentation (\n",
    "    fact_id INTEGER PRIMARY KEY AUTOINCREMENT\n",
    "    ,analysis_id INTEGER NOT NULL\n",
    "    ,segment_id INTEGER NOT NULL REFERENCES dim_segment(segment_id)\n",
    "    ,store_id INTEGER NOT NULL REFERENCES dim_store(store_id)\n",
    "    ,UNIQUE(analysis_id, store_id) ON CONFLICT REPLACE\n",
    ");\n",
    "\n",
    "DROP VIEW IF EXISTS fact_segmentationv;\n",
    "CREATE VIEW fact_segmentationv AS\n",
    "    SELECT DISTINCT\n",
    "        retailer_id AS analysis_id\n",
    "        ,segment_id\n",
    "        ,store_id\n",
    "    FROM\n",
    "        raw\n",
    "    JOIN\n",
    "        dim_segment\n",
    "        ON cluster = segment_name\n",
    "    JOIN\n",
    "        dim_store\n",
    "        ON store_name = store;\n",
    "\"\"\"\n",
    "\n",
    "conn.executescript(sql)"
   ]
  },
  {
   "cell_type": "markdown",
   "id": "9b851f87-ee6c-4a84-b1df-d473a70e5402",
   "metadata": {},
   "source": [
    "### Upload Bad Data"
   ]
  },
  {
   "cell_type": "code",
   "execution_count": 20,
   "id": "9f2b96cf-0bee-44be-bd9b-34fcd5ce081f",
   "metadata": {},
   "outputs": [
    {
     "data": {
      "text/plain": [
       "<sqlite3.Cursor at 0x7f45c31dbc70>"
      ]
     },
     "execution_count": 20,
     "metadata": {},
     "output_type": "execute_result"
    }
   ],
   "source": [
    "dupes.to_sql('raw', conn, if_exists='replace', index=False)\n",
    "\n",
    "pop_sql = \"\"\"\n",
    "INSERT INTO dim_date (date_value)\n",
    "    SELECT date_value FROM dim_datev;\n",
    "\n",
    "INSERT INTO dim_retailer (retailer_name)\n",
    "    SELECT retailer_name FROM dim_retailerv;\n",
    "\n",
    "INSERT INTO dim_store (store_name, retailer_id)\n",
    "    SELECT store_name, retailer_id FROM dim_storev;\n",
    "\n",
    "INSERT INTO dim_product (product_name)\n",
    "    SELECT product_name FROM dim_productv;\n",
    "\n",
    "INSERT INTO dim_unit (unit_name)\n",
    "    SELECT unit_name FROM dim_unitv;\n",
    "\n",
    "INSERT INTO fact_sale (date_id, store_id, product_id, unit_id, value)\n",
    "    SELECT date_id, store_id, product_id, unit_id, value FROM fact_salev;\n",
    "\n",
    "INSERT INTO dim_segment (segment_name)\n",
    "    SELECT segment_name FROM dim_segmentv;\n",
    "\n",
    "INSERT INTO fact_segmentation (analysis_id, segment_id, store_id)\n",
    "    SELECT analysis_id, segment_id, store_id FROM fact_segmentationv;\n",
    "\"\"\"\n",
    "\n",
    "conn.executescript(pop_sql)"
   ]
  },
  {
   "cell_type": "markdown",
   "id": "b0e9538a-7f78-429c-bef8-d0688dd8040c",
   "metadata": {},
   "source": [
    "### Upload Fix"
   ]
  },
  {
   "cell_type": "code",
   "execution_count": 21,
   "id": "277119a0-834c-4936-93e9-c22facf67c43",
   "metadata": {},
   "outputs": [
    {
     "data": {
      "text/plain": [
       "<sqlite3.Cursor at 0x7f45c3198c70>"
      ]
     },
     "execution_count": 21,
     "metadata": {},
     "output_type": "execute_result"
    }
   ],
   "source": [
    "import time\n",
    "\n",
    "time.sleep(90)\n",
    "\n",
    "merge.to_sql('raw', conn, if_exists='replace', index=False)\n",
    "\n",
    "pop_sql = \"\"\"\n",
    "INSERT INTO dim_date (date_value)\n",
    "    SELECT date_value FROM dim_datev;\n",
    "\n",
    "INSERT INTO dim_retailer (retailer_name)\n",
    "    SELECT retailer_name FROM dim_retailerv;\n",
    "\n",
    "INSERT INTO dim_store (store_name, retailer_id)\n",
    "    SELECT store_name, retailer_id FROM dim_storev;\n",
    "\n",
    "INSERT INTO dim_product (product_name)\n",
    "    SELECT product_name FROM dim_productv;\n",
    "\n",
    "INSERT INTO dim_unit (unit_name)\n",
    "    SELECT unit_name FROM dim_unitv;\n",
    "\n",
    "INSERT INTO fact_sale (date_id, store_id, product_id, unit_id, value)\n",
    "    SELECT date_id, store_id, product_id, unit_id, value FROM fact_salev;\n",
    "\n",
    "INSERT INTO dim_segment (segment_name)\n",
    "    SELECT segment_name FROM dim_segmentv;\n",
    "\n",
    "INSERT INTO fact_segmentation (analysis_id, segment_id, store_id)\n",
    "    SELECT analysis_id, segment_id, store_id FROM fact_segmentationv;\n",
    "\"\"\"\n",
    "\n",
    "conn.executescript(pop_sql)"
   ]
  },
  {
   "cell_type": "markdown",
   "id": "f2846022-c2f6-4532-a7d7-15a87b1bdd97",
   "metadata": {},
   "source": [
    "### Test Upload"
   ]
  },
  {
   "cell_type": "code",
   "execution_count": 22,
   "id": "d831936d-41e7-4f58-8ff0-d849f803111e",
   "metadata": {},
   "outputs": [
    {
     "name": "stdout",
     "output_type": "stream",
     "text": [
      "16703610\n",
      "16703610\n",
      "33407220\n"
     ]
    }
   ],
   "source": [
    "dupe_ct = dupes.shape[0]\n",
    "orig_ct = merge.shape[0]\n",
    "\n",
    "print(dupe_ct)\n",
    "print(orig_ct)\n",
    "print(dupe_ct + orig_ct)"
   ]
  },
  {
   "cell_type": "code",
   "execution_count": 23,
   "id": "69f1f57f-d303-4ac9-a722-3cd2150a58ca",
   "metadata": {},
   "outputs": [
    {
     "data": {
      "text/html": [
       "<div>\n",
       "<style scoped>\n",
       "    .dataframe tbody tr th:only-of-type {\n",
       "        vertical-align: middle;\n",
       "    }\n",
       "\n",
       "    .dataframe tbody tr th {\n",
       "        vertical-align: top;\n",
       "    }\n",
       "\n",
       "    .dataframe thead th {\n",
       "        text-align: right;\n",
       "    }\n",
       "</style>\n",
       "<table border=\"1\" class=\"dataframe\">\n",
       "  <thead>\n",
       "    <tr style=\"text-align: right;\">\n",
       "      <th></th>\n",
       "      <th>created_at</th>\n",
       "      <th>count(*)</th>\n",
       "    </tr>\n",
       "  </thead>\n",
       "  <tbody>\n",
       "    <tr>\n",
       "      <th>0</th>\n",
       "      <td>2022-06-08 14:55:56</td>\n",
       "      <td>16703610</td>\n",
       "    </tr>\n",
       "    <tr>\n",
       "      <th>1</th>\n",
       "      <td>2022-06-08 14:58:50</td>\n",
       "      <td>16703610</td>\n",
       "    </tr>\n",
       "  </tbody>\n",
       "</table>\n",
       "</div>"
      ],
      "text/plain": [
       "            created_at  count(*)\n",
       "0  2022-06-08 14:55:56  16703610\n",
       "1  2022-06-08 14:58:50  16703610"
      ]
     },
     "execution_count": 23,
     "metadata": {},
     "output_type": "execute_result"
    }
   ],
   "source": [
    "pd.read_sql(\"select created_at, count(*) from fact_sale group by 1\", conn)"
   ]
  },
  {
   "cell_type": "markdown",
   "id": "a85983d8-0f71-4aac-a86c-64ca611bc9b1",
   "metadata": {
    "tags": []
   },
   "source": [
    "### Query Data"
   ]
  },
  {
   "cell_type": "code",
   "execution_count": 24,
   "id": "474aa88c-9097-4fbe-a90e-021a90ed0d5d",
   "metadata": {},
   "outputs": [],
   "source": [
    "import pandas as pd\n",
    "import sqlite3\n",
    "\n",
    "conn = sqlite3.connect('sales_data.db')"
   ]
  },
  {
   "cell_type": "code",
   "execution_count": 25,
   "id": "90c95f7f-d422-4154-beee-d48d2a38b978",
   "metadata": {
    "tags": []
   },
   "outputs": [
    {
     "data": {
      "text/html": [
       "<div>\n",
       "<style scoped>\n",
       "    .dataframe tbody tr th:only-of-type {\n",
       "        vertical-align: middle;\n",
       "    }\n",
       "\n",
       "    .dataframe tbody tr th {\n",
       "        vertical-align: top;\n",
       "    }\n",
       "\n",
       "    .dataframe thead th {\n",
       "        text-align: right;\n",
       "    }\n",
       "</style>\n",
       "<table border=\"1\" class=\"dataframe\">\n",
       "  <thead>\n",
       "    <tr style=\"text-align: right;\">\n",
       "      <th></th>\n",
       "      <th>fact_id</th>\n",
       "      <th>date_id</th>\n",
       "      <th>store_id</th>\n",
       "      <th>product_id</th>\n",
       "      <th>unit_id</th>\n",
       "      <th>value</th>\n",
       "      <th>created_at</th>\n",
       "      <th>date_value</th>\n",
       "      <th>store_name</th>\n",
       "      <th>retailer_id</th>\n",
       "      <th>product_name</th>\n",
       "      <th>unit_name</th>\n",
       "      <th>segment_name</th>\n",
       "      <th>analysis_id</th>\n",
       "    </tr>\n",
       "  </thead>\n",
       "  <tbody>\n",
       "    <tr>\n",
       "      <th>0</th>\n",
       "      <td>1</td>\n",
       "      <td>1</td>\n",
       "      <td>1</td>\n",
       "      <td>1</td>\n",
       "      <td>1</td>\n",
       "      <td>0.00</td>\n",
       "      <td>2022-06-08 14:55:56</td>\n",
       "      <td>WEEK_00</td>\n",
       "      <td>0000</td>\n",
       "      <td>1</td>\n",
       "      <td>PRODUCT_0</td>\n",
       "      <td>SALES_UNITS</td>\n",
       "      <td>T</td>\n",
       "      <td>1</td>\n",
       "    </tr>\n",
       "    <tr>\n",
       "      <th>1</th>\n",
       "      <td>2</td>\n",
       "      <td>1</td>\n",
       "      <td>1</td>\n",
       "      <td>1</td>\n",
       "      <td>2</td>\n",
       "      <td>0.00</td>\n",
       "      <td>2022-06-08 14:55:56</td>\n",
       "      <td>WEEK_00</td>\n",
       "      <td>0000</td>\n",
       "      <td>1</td>\n",
       "      <td>PRODUCT_0</td>\n",
       "      <td>SALES_USD</td>\n",
       "      <td>T</td>\n",
       "      <td>1</td>\n",
       "    </tr>\n",
       "    <tr>\n",
       "      <th>2</th>\n",
       "      <td>3</td>\n",
       "      <td>2</td>\n",
       "      <td>1</td>\n",
       "      <td>1</td>\n",
       "      <td>1</td>\n",
       "      <td>6.00</td>\n",
       "      <td>2022-06-08 14:55:56</td>\n",
       "      <td>WEEK_01</td>\n",
       "      <td>0000</td>\n",
       "      <td>1</td>\n",
       "      <td>PRODUCT_0</td>\n",
       "      <td>SALES_UNITS</td>\n",
       "      <td>T</td>\n",
       "      <td>1</td>\n",
       "    </tr>\n",
       "    <tr>\n",
       "      <th>3</th>\n",
       "      <td>4</td>\n",
       "      <td>2</td>\n",
       "      <td>1</td>\n",
       "      <td>1</td>\n",
       "      <td>2</td>\n",
       "      <td>21.66</td>\n",
       "      <td>2022-06-08 14:55:56</td>\n",
       "      <td>WEEK_01</td>\n",
       "      <td>0000</td>\n",
       "      <td>1</td>\n",
       "      <td>PRODUCT_0</td>\n",
       "      <td>SALES_USD</td>\n",
       "      <td>T</td>\n",
       "      <td>1</td>\n",
       "    </tr>\n",
       "    <tr>\n",
       "      <th>4</th>\n",
       "      <td>5</td>\n",
       "      <td>3</td>\n",
       "      <td>1</td>\n",
       "      <td>1</td>\n",
       "      <td>1</td>\n",
       "      <td>24.00</td>\n",
       "      <td>2022-06-08 14:55:56</td>\n",
       "      <td>WEEK_02</td>\n",
       "      <td>0000</td>\n",
       "      <td>1</td>\n",
       "      <td>PRODUCT_0</td>\n",
       "      <td>SALES_UNITS</td>\n",
       "      <td>T</td>\n",
       "      <td>1</td>\n",
       "    </tr>\n",
       "  </tbody>\n",
       "</table>\n",
       "</div>"
      ],
      "text/plain": [
       "   fact_id  date_id  store_id  product_id  unit_id  value  \\\n",
       "0        1        1         1           1        1   0.00   \n",
       "1        2        1         1           1        2   0.00   \n",
       "2        3        2         1           1        1   6.00   \n",
       "3        4        2         1           1        2  21.66   \n",
       "4        5        3         1           1        1  24.00   \n",
       "\n",
       "            created_at date_value store_name  retailer_id product_name  \\\n",
       "0  2022-06-08 14:55:56    WEEK_00       0000            1    PRODUCT_0   \n",
       "1  2022-06-08 14:55:56    WEEK_00       0000            1    PRODUCT_0   \n",
       "2  2022-06-08 14:55:56    WEEK_01       0000            1    PRODUCT_0   \n",
       "3  2022-06-08 14:55:56    WEEK_01       0000            1    PRODUCT_0   \n",
       "4  2022-06-08 14:55:56    WEEK_02       0000            1    PRODUCT_0   \n",
       "\n",
       "     unit_name segment_name  analysis_id  \n",
       "0  SALES_UNITS            T            1  \n",
       "1    SALES_USD            T            1  \n",
       "2  SALES_UNITS            T            1  \n",
       "3    SALES_USD            T            1  \n",
       "4  SALES_UNITS            T            1  "
      ]
     },
     "execution_count": 25,
     "metadata": {},
     "output_type": "execute_result"
    }
   ],
   "source": [
    "pd.read_sql('''\n",
    "SELECT\n",
    "  fs.*\n",
    "  ,date_value\n",
    "  ,store_name\n",
    "  ,retailer_id\n",
    "  ,product_name\n",
    "  ,unit_name\n",
    "  ,segment_name\n",
    "  ,analysis_id\n",
    "FROM\n",
    "  fact_sale fs\n",
    "JOIN\n",
    "  dim_date dd\n",
    "  ON dd.date_id = fs.date_id\n",
    "JOIN\n",
    "  dim_store ds\n",
    "  ON ds.store_id = fs.store_id\n",
    "JOIN\n",
    "  dim_product dp\n",
    "  ON dp.product_id = fs.product_id\n",
    "JOIN\n",
    "  dim_unit du\n",
    "  ON du.unit_id = fs.unit_id\n",
    "JOIN\n",
    "  fact_segmentation fseg\n",
    "  ON fseg.store_id = fs.store_id\n",
    "JOIN\n",
    "  dim_segment dseg\n",
    "  ON dseg.segment_id = fseg.segment_id\n",
    "LIMIT 5\n",
    "''', conn)"
   ]
  },
  {
   "cell_type": "code",
   "execution_count": 26,
   "id": "6d3c2f18-7ed4-44b3-a06f-d0d4980a3693",
   "metadata": {},
   "outputs": [
    {
     "data": {
      "text/html": [
       "<div>\n",
       "<style scoped>\n",
       "    .dataframe tbody tr th:only-of-type {\n",
       "        vertical-align: middle;\n",
       "    }\n",
       "\n",
       "    .dataframe tbody tr th {\n",
       "        vertical-align: top;\n",
       "    }\n",
       "\n",
       "    .dataframe thead th {\n",
       "        text-align: right;\n",
       "    }\n",
       "</style>\n",
       "<table border=\"1\" class=\"dataframe\">\n",
       "  <thead>\n",
       "    <tr style=\"text-align: right;\">\n",
       "      <th></th>\n",
       "      <th>created_at</th>\n",
       "      <th>count(*)</th>\n",
       "    </tr>\n",
       "  </thead>\n",
       "  <tbody>\n",
       "    <tr>\n",
       "      <th>0</th>\n",
       "      <td>2022-06-08 14:55:56</td>\n",
       "      <td>33407220</td>\n",
       "    </tr>\n",
       "  </tbody>\n",
       "</table>\n",
       "</div>"
      ],
      "text/plain": [
       "            created_at  count(*)\n",
       "0  2022-06-08 14:55:56  33407220"
      ]
     },
     "execution_count": 26,
     "metadata": {},
     "output_type": "execute_result"
    }
   ],
   "source": [
    "pd.read_sql(\"select created_at, count(*) from fact_sale\", conn)"
   ]
  },
  {
   "cell_type": "code",
   "execution_count": null,
   "id": "f13d9b41-f0ff-457f-b1d2-479d32a65365",
   "metadata": {},
   "outputs": [],
   "source": []
  }
 ],
 "metadata": {
  "kernelspec": {
   "display_name": "Python 3 (ipykernel)",
   "language": "python",
   "name": "python3"
  },
  "language_info": {
   "codemirror_mode": {
    "name": "ipython",
    "version": 3
   },
   "file_extension": ".py",
   "mimetype": "text/x-python",
   "name": "python",
   "nbconvert_exporter": "python",
   "pygments_lexer": "ipython3",
   "version": "3.8.10"
  }
 },
 "nbformat": 4,
 "nbformat_minor": 5
}
